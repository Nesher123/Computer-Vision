{
 "cells": [
  {
   "cell_type": "markdown",
   "metadata": {
    "deletable": false
   },
   "source": [
    "##  <span style=\"color:blue\">Exercise 3 - Driver file </span>\n",
    "## <span style=\"color:blue\">Computer Vision - Fall 2020\n",
    "\n",
    "\n",
    "**Lecturer:** Prof. Yael Moses, IDC\n",
    "\n",
    "**TA:** Eyal Friedman, IDC\n",
    "\n",
    "**Sybmission date: 11.1.2021**\n",
    "\n",
    "\n",
    "\n",
    "In this exercise you will practice working with videos, and simple segmentations.\n",
    "\n",
    "## Submission guidelines:\n",
    "\n",
    "1. Your zip file should include the following files only:\n",
    "    - ex2-driver.ipynb  **Or**  ex2-driver.py \n",
    "    - ex2_ID_ID.doc  **Or**  ex2_ID_ID.pdf\n",
    "2. The results you are asked to display and the open questions should be answered in a doc/pdf file. \n",
    "   (Don't add the python code to that file.)\n",
    "4. You may use any IDE  (e.g., Spyder, Jupyter Notebook, Pycharm, ect.).\n",
    "5. Name the file 'ex2_ID_ID.zip' and do **not** include any additional directories. \n",
    "6. Submit using *moodle*\n",
    "7. Submit on time!\n",
    "8. You can submit this assignment in pairs (no triples).\n",
    "\n",
    "## Read the following instructions carefully:\n",
    "1. You are responsible for the correctness of your code and should add as many tests as you see fit. Do not submit your tests, unless requested.\n",
    "3. Use `python 3` and `numpy 1.18.5`. Changes of the configuration we provided are at your own risk. Before submitting the exercise, restart the kernel and run the notebook from start to finish to make sure everything works.\n",
    "4. You are allowed to use functions and methods from the [Python Standard Library](https://docs.python.org/3/library/) and [numpy](https://www.numpy.org/devdocs/reference/) only. Any other imports are forbidden, unless been provided by us.\n",
    "4. Your code must run without errors. Note,  **code that fails to  run will not be graded.**\n",
    "5. Document your code properly.\n",
    "6. **Note:** you are given a set of videos, you are welcome to use them or any other videos. If they are too long, you can use only part of the frames. If they are too large, you can rescale them.\n",
    "7. In case there  are several possible variations for implementing the algorithms - make your own  choice, and give a short explanation.\n",
    "\n",
    "## Honor Code:\n",
    "The assignment is a basic tool for learning the material. You can probably find the solution on the Web. However, if  you do so, then you will not learn what you should learn from it. In addition, since we  grade  the assignment, using existing solutions will be considered dishonest.\n",
    "In particular, you are not allowed to copy or use any code that solves the task. \n",
    "You are more than welcome to talk with your friends, but you are not allowed to give your code or answers and you are not allowed to use their code or answers. \n",
    "Remember – you take this course in order to learn.\n"
   ]
  },
  {
   "cell_type": "code",
   "execution_count": 172,
   "metadata": {},
   "outputs": [],
   "source": [
    "import cv2\n",
    "import matplotlib\n",
    "import matplotlib.pyplot as plt\n",
    "import numpy as np\n",
    "from scipy.linalg import null_space\n",
    "from scipy.signal import convolve2d\n",
    "\n",
    "%matplotlib inline"
   ]
  },
  {
   "cell_type": "code",
   "execution_count": 173,
   "metadata": {},
   "outputs": [
    {
     "name": "stdout",
     "output_type": "stream",
     "text": [
      "Python version:  3.8.5\n",
      "Numpy version:  1.19.2\n"
     ]
    }
   ],
   "source": [
    "import platform\n",
    "print(\"Python version: \", platform.python_version())\n",
    "print(\"Numpy version: \", np.__version__)"
   ]
  },
  {
   "cell_type": "markdown",
   "metadata": {},
   "source": [
    "## Section A: Change Detection\n",
    "\n",
    "**A1. Simple change detection**\n",
    "\n",
    "Compute a simple change detection algorithm. Use as background the median of a set of k1 frames, and update it every k2 frames. Your algorithm should work on color images. Think how to merge the different channels (colors). You can assume that the camera is static. The output is a video where the pixels of the  foreground objects consists of the original frame, and the other pixels are black. \n",
    "\n",
    "*Input:* name_file, k1, k2, and any other parameter you would like to add\\\n",
    "name_file: a name of a video file\\\n",
    "k1: the number of frames for computing the median\\\n",
    "k2: the number of frames between two updates of the background\n",
    "\n",
    "*output:*  v_foreground"
   ]
  },
  {
   "cell_type": "code",
   "execution_count": null,
   "metadata": {},
   "outputs": [],
   "source": [
    "def v_foreground = median_change_dection(name_file, k1, k2):\n",
    "    # your code"
   ]
  },
  {
   "cell_type": "markdown",
   "metadata": {},
   "source": [
    "**A2. Post Processing for  change detection**\n",
    "\n",
    "**Answer:** Suggest a post processing algorithm for improving  the results of a change detection algorithm (e.g., remove noise or fill gaps). \n",
    "\n",
    "**Code:** implement your algorithm.\n",
    "\n",
    "*Input:*  v_original, v_foreground\\\n",
    "v_original: the original video\\\n",
    "v_foreground: the output of B1\n",
    "\n",
    "*output:* v_PP_foreground\\\n",
    "v_PP_foreground: the result of the post processing on v_foreground.\n",
    "\n",
    "\n",
    "**Note:**\n",
    "1. You may want to generate from v_foreground  a binary mask of the foreground regions.\n",
    "2. You can use dilation or erosion on a the binary mask.\n",
    "3.  You may use additional frames to improve the results, but you do not have to.\n"
   ]
  },
  {
   "cell_type": "code",
   "execution_count": null,
   "metadata": {},
   "outputs": [],
   "source": [
    "def v_PP_foreground = improve_foreground(v_original,v_foreground):\n",
    "    \n",
    "    # your code"
   ]
  },
  {
   "cell_type": "markdown",
   "metadata": {},
   "source": [
    "**A3. Counting  foreground objects**\n",
    "\n",
    "Write a function that counts the number of foreground objects in the result of A1 or A2. \n",
    "\n",
    "*Input:* v_foreground\\\n",
    "v_foreground: a video which is the output of B1 or B2\n",
    "\n",
    "*Output*: c\\\n",
    "c: a vector with the number of foreground objects in each of the frames\n",
    "\n",
    "**Note:** You can use a function that counts connected components in a binary image.\n"
   ]
  },
  {
   "cell_type": "code",
   "execution_count": null,
   "metadata": {},
   "outputs": [],
   "source": [
    "def c = count_foreground_objects(v_foreground):\n",
    "    \n",
    "    # your code"
   ]
  },
  {
   "cell_type": "markdown",
   "metadata": {},
   "source": [
    "## Section B: Compute Optical Flow (OF) using Lucas-Kanade\n",
    "\n",
    "**B1. Basic Lucas Kanade OF**\n",
    "\n",
    "Impelment the basic Lucas-Kanade we leared in class.\n",
    "\n",
    "*Input:*  name_file, nf1, nf2,  sigma_R, sigma_S\\\n",
    "name_file: a name of a video file\\\n",
    "f1 and f2: the numbers of the two frames form the video on which the OF is computed.\\\n",
    "sigma_S: the variance of the Gaussian used for the  spatial smoothing  as in HW1 (for computing the derivative of a Gaussian).\\\n",
    "sigma_R: the variance of the Gaussian for computing the sum of the derivatives (the convolution replace the sum).\n",
    "\n",
    "*Output:* U, V, im1,im2\\\n",
    "U, V:  two matrices with the x and y motion for each pixel, respectively.\\\n",
    "im1, im2: the frames on which the optical flow was computed (their number in the video is nf1 and nf2).\n",
    "\n",
    "**Note:**\n",
    "1. You can use any video reading method you find convenient.\n",
    "2. Do not forget to convert the images into grey scale.\n",
    "3. You can compute the derivatives of the images as in HW1 - convolution with the derivative of a Gaussian.\n",
    "3. You can resize the images in order for the program to run faster.\n",
    "5. The computed OF is not necessarily integers. You may want to perform float computation.\n",
    "6. For sigma_R look at slide 63 of Class 7."
   ]
  },
  {
   "cell_type": "code",
   "execution_count": 3,
   "metadata": {},
   "outputs": [],
   "source": [
    "# Helper functions from HW1:\n",
    "\n",
    "def GaussianDerivative(axis, x, y, sigma):\n",
    "    axis_parameter = x if axis == 'x' else y\n",
    "    return (-axis_parameter/2*np.pi*sigma**4)*np.exp(-(np.square(x) + np.square(y))/(2*sigma**2))\n",
    "\n",
    "\n",
    "def Deriv_Gauss(sigma, mask_size, axis):\n",
    "    mask_size = int(mask_size)\n",
    "    \n",
    "    if (mask_size % 2) == 0:\n",
    "        mask_size += 1\n",
    "   \n",
    "    # Create a vector with values\n",
    "    ax = np.linspace(-(mask_size - 1) / 2., (mask_size - 1) / 2., mask_size)\n",
    "  \n",
    "    # Assigne two matrices with the appropriate x and y values on which the gaussian function is computed\n",
    "    xx, yy = np.meshgrid(ax, ax)\n",
    "    kernel = GaussianDerivative(axis, xx, yy, sigma)\n",
    "    \n",
    "    return kernel"
   ]
  },
  {
   "cell_type": "code",
   "execution_count": 185,
   "metadata": {},
   "outputs": [],
   "source": [
    "# Helper functions for section B:\n",
    "\n",
    "def play_video(filename):\n",
    "    cap = cv2.VideoCapture(filename)\n",
    "\n",
    "    while(cap.isOpened()):\n",
    "        ret, frame = cap.read()\n",
    "        \n",
    "        if ret:\n",
    "            gray = cv2.cvtColor(frame, cv2.COLOR_BGR2GRAY)\n",
    "            cv2.imshow('frame',frame)\n",
    "            cv2.waitKey(30)\n",
    "        else:\n",
    "            break\n",
    "    cap.release()\n",
    "\n",
    "\n",
    "def save_all_frames(filename):\n",
    "    vidcap = cv2.VideoCapture(filename)\n",
    "    success,image = vidcap.read()\n",
    "    count = 0\n",
    "    \n",
    "    while success:\n",
    "        greyscaled_image = cv2.cvtColor(image, cv2.COLOR_BGR2GRAY) # convert the images into greyscale\n",
    "        cv2.imwrite(\"frame%d.jpg\" % count, greyscaled_image) # save frame as JPEG file\n",
    "        success,image = vidcap.read()\n",
    "#         print(f'Read frame number {count}: {success}')\n",
    "        count += 1\n",
    "\n",
    "\n",
    "def get_all_frames_as_list(filename):\n",
    "    frames_list = []\n",
    "    vidcap = cv2.VideoCapture(filename)\n",
    "    success,image = vidcap.read()\n",
    "    count = 0\n",
    "    \n",
    "    while success:\n",
    "        greyscaled_image = cv2.cvtColor(image, cv2.COLOR_BGR2GRAY) # convert the images into greyscale\n",
    "        frames_list.append(greyscaled_image)\n",
    "        success,image = vidcap.read()\n",
    "        count += 1\n",
    "    \n",
    "    return frames_list\n",
    "\n",
    "\n",
    "def get_A(image_x, image_y, position, window_size=43):\n",
    "    column = position[1]\n",
    "    row = position[0]\n",
    "    w = window_size//2\n",
    "\n",
    "    intensities_x = image_x[row-w : row+w+1, column-w : column+w+1].flatten()\n",
    "    intensities_y = image_y[row-w : row+w+1, column-w : column+w+1].flatten()\n",
    "    A = np.vstack((intensities_x, intensities_y)).T\n",
    "    \n",
    "    return A\n",
    "\n",
    "\n",
    "def get_C(image_x, image_y, position):\n",
    "    column = position[1]\n",
    "    row = position[0]\n",
    "    intensity_x = image_x[row, column]\n",
    "    intensity_y = image_y[row, column]\n",
    "    \n",
    "    C = np.zeros((2,2))\n",
    "    C[0,0] = intensity_x**2\n",
    "    C[0,1] = C[1,0] = intensity_x * intensity_y\n",
    "    C[1,1] = intensity_y**2\n",
    "    \n",
    "    return C\n",
    "\n",
    "\n",
    "def zzz(Ix, Iy, It, window_size):\n",
    "    rows, columns = Ix.shape\n",
    "    w = window_size//2\n",
    "    U = np.zeros((rows, columns))\n",
    "    V = np.zeros((rows, columns))\n",
    "    \n",
    "    for i in range(w, rows-w):\n",
    "        for j in range(w, columns-w):\n",
    "            A = get_A(Ix, Iy, [i,j], window_size).flatten()\n",
    "            b = It[i-w : i+w+1, j-w : j+w+1].reshape(-1, 1).flatten()\n",
    "            C = get_C(Ix, Iy, [i,j]).flatten()\n",
    "\n",
    "            if np.linalg.matrix_rank(C) >= 2:\n",
    "                print('rank = 2')\n",
    "                A_pseudo_inverse = np.matmul(np.linalg.inv(C), A.T)\n",
    "                result = np.matmul(A_pseudo_inverse, b)\n",
    "                U[i,j] = result[0]\n",
    "                V[i,j] = result[1]\n",
    "    \n",
    "    return U,V\n",
    "\n",
    "\n",
    "def get_U_V(x_matrix, y_matrix, t_matrix, window_size):\n",
    "    rows, columns = x_matrix.shape\n",
    "    w = window_size//2\n",
    "    U = np.zeros((rows, columns))\n",
    "    V = np.zeros((rows, columns))\n",
    "    \n",
    "    tau=1e-2 # REMOVE!\n",
    "    \n",
    "    for i in range(w, rows-w): # We start at w and end w early becasue of the window padding - to not go out of bounds\n",
    "        for j in range(w, columns-w):\n",
    "            Ix = x_matrix[i-w : i+w+1, j-w : j+w+1].flatten()\n",
    "            Iy = y_matrix[i-w : i+w+1, j-w : j+w+1].flatten()\n",
    "            It = t_matrix[i-w : i+w+1, j-w : j+w+1].flatten()\n",
    "            \n",
    "            A = np.vstack((Ix, Iy)).T\n",
    "            b = np.reshape(It, (It.shape[0],1))\n",
    "            \n",
    "            if np.min(abs(np.linalg.eigvals(np.matmul(A.T, A)))) >= tau:\n",
    "                nu = np.matmul(np.linalg.pinv(A), b)\n",
    "                U[i,j]=nu[0]\n",
    "                V[i,j]=nu[1]\n",
    "    \n",
    "    return U,V"
   ]
  },
  {
   "cell_type": "code",
   "execution_count": 125,
   "metadata": {},
   "outputs": [],
   "source": [
    "from scipy.signal import convolve2d\n",
    "\n",
    "filename = 'OneLeaveShopReenter2cor.mpg' # 559 frames\n",
    "# filename = 'slide.avi' # 560 frames\n",
    "window_size = 43\n",
    "mode = 'same'\n",
    "sigma = 1\n",
    "mask_size = sigma * 4\n",
    "\n",
    "frames_list = get_all_frames_as_list(filename)\n",
    "\n",
    "nf1 = 0\n",
    "nf2 = 1\n",
    "frame1 = frames_list[nf1]\n",
    "frame2 = frames_list[nf2]\n",
    "\n",
    "# plot_image = cv2.cvtColor(img1, cv2.COLOR_BGR2RGB)\n",
    "# plt.imshow(plot_image)\n",
    "\n",
    "# syntethic_img1 = np.zeros((20,20), dtype=np.int)\n",
    "# syntethic_img1[1:4, 2:5] = 255\n",
    "# syntethic_img2 = np.zeros((20,20), dtype=np.int)\n",
    "# syntethic_img2[1:4, 3:6] = 255\n",
    "\n",
    "# img1 = syntethic_img1 / 255\n",
    "# img2 = syntethic_img2 / 255\n",
    "\n",
    "img1_convolved_x, img1_convolved_y = get_derivatives(frame1, sigma, mask_size)\n",
    "img2_convolved_x, img2_convolved_y = get_derivatives(frame2, sigma, mask_size)\n",
    "\n",
    "Ix = img1_convolved_x + img2_convolved_x\n",
    "Iy = img1_convolved_y + img2_convolved_y\n",
    "\n",
    "# calculate gradient along temporal \"t\" direction\n",
    "filter_t1 = np.array([[-1., -1.], [-1., -1.]])\n",
    "filter_t2 = -1 * filter_t1\n",
    "f_t1 = convolve2d(img1, filter_t1, mode = mode)\n",
    "f_t2 = convolve2d(img2, filter_t2, mode = mode)\n",
    "It = f_t1 + f_t2"
   ]
  },
  {
   "cell_type": "code",
   "execution_count": 146,
   "metadata": {},
   "outputs": [],
   "source": [
    "from scipy.signal import convolve2d\n",
    "\n",
    "filename = 'OneLeaveShopReenter2cor.mpg' # 559 frames\n",
    "# filename = 'slide.avi' # 560 frames\n",
    "window_size = 43\n",
    "mode = 'same'\n",
    "boundary = 'symm'\n",
    "sigma = 1\n",
    "mask_size = sigma * 4\n",
    "\n",
    "frames_list = get_all_frames_as_list(filename)\n",
    "\n",
    "nf1 = 0\n",
    "nf2 = 1\n",
    "frame1 = frames_list[nf1]/255\n",
    "frame2 = frames_list[nf2]/255\n",
    "\n",
    "kernel_x = Deriv_Gauss(sigma, mask_size, 'x')\n",
    "kernel_y = Deriv_Gauss(sigma, mask_size, 'y')\n",
    "kernel_t = np.array([[1., 1.], [1., 1.]])\n",
    "    \n",
    "fx = convolve2d(frame1, kernel_x, boundary = boundary, mode = mode)\n",
    "fy = convolve2d(frame1, kernel_y, boundary = boundary, mode = mode)\n",
    "ft = convolve2d(frame2, kernel_t, boundary = boundary, mode = mode) + \\\n",
    "     convolve2d(frame1, -kernel_t, boundary = boundary, mode = mode)\n",
    "\n",
    "U,V = get_U_V2(fx, fy, ft, window_size)"
   ]
  },
  {
   "cell_type": "code",
   "execution_count": null,
   "metadata": {},
   "outputs": [],
   "source": [
    "f, ((syntethic_image1, syntethic_image2)) = plt.subplots(1, 2, sharex='col', sharey='row', figsize=(10, 60))\n",
    "syntethic_image1.imshow(syntethic_img1, cmap='gray'), syntethic_image1.set_title('syntethic_image1', fontsize = 20)\n",
    "syntethic_image2.imshow(syntethic_img2, cmap='gray'), syntethic_image2.set_title('syntethic_image2', fontsize = 20)"
   ]
  },
  {
   "cell_type": "code",
   "execution_count": null,
   "metadata": {
    "jupyter": {
     "source_hidden": true
    }
   },
   "outputs": [],
   "source": [
    "def optical_flow(I1g, I2g, window_size, tau=1e-2):\n",
    "    kernel_x = np.array([[-1., 1.], [-1., 1.]])\n",
    "    kernel_y = np.array([[-1., -1.], [1., 1.]])\n",
    "    kernel_t = np.array([[1., 1.], [1., 1.]])#*.25\n",
    "    w = window_size//2 # window_size is odd, all the pixels with offset in between [-w, w] are inside the window\n",
    "    I1g = I1g / 255. # normalize pixels\n",
    "    I2g = I2g / 255. # normalize pixels\n",
    "    # Implement Lucas Kanade\n",
    "    # for each point, calculate I_x, I_y, I_t\n",
    "    mode = 'same'\n",
    "    fx = convolve2d(I1g, kernel_x, boundary='symm', mode=mode)\n",
    "    fy = convolve2d(I1g, kernel_y, boundary='symm', mode=mode)\n",
    "    ft = convolve2d(I2g, kernel_t, boundary='symm', mode=mode) +\\\n",
    "         convolve2d(I1g, -kernel_t, boundary='symm', mode=mode)\n",
    "    u = np.zeros(I1g.shape)\n",
    "    v = np.zeros(I1g.shape)\n",
    "    # within window window_size * window_size\n",
    "    for i in range(w, I1g.shape[0]-w):\n",
    "        for j in range(w, I1g.shape[1]-w):\n",
    "            Ix = fx[i-w:i+w+1, j-w:j+w+1].flatten()\n",
    "            Iy = fy[i-w:i+w+1, j-w:j+w+1].flatten()\n",
    "            It = ft[i-w:i+w+1, j-w:j+w+1].flatten()\n",
    "            b = np.reshape(It, (It.shape[0],1)) # get b here\n",
    "            A = np.vstack((Ix, Iy)).T # get A here\n",
    "            if np.min(abs(np.linalg.eigvals(np.matmul(A.T, A)))) >= tau: # if threshold τ is larger than the smallest eigenvalue of A'A:\n",
    "                nu = np.matmul(np.linalg.pinv(A), b) # get velocity here\n",
    "                u[i,j]=nu[0]\n",
    "                v[i,j]=nu[1]        \n",
    "    return (u,v)\n",
    "\n",
    "# optical_flow(a, b, 3)\n",
    "\n",
    "# plt.imshow(optical_flow(a, b, 3)[1])"
   ]
  },
  {
   "cell_type": "code",
   "execution_count": 140,
   "metadata": {
    "collapsed": true,
    "jupyter": {
     "outputs_hidden": true,
     "source_hidden": true
    }
   },
   "outputs": [
    {
     "ename": "TypeError",
     "evalue": "Invalid shape (9,) for image data",
     "output_type": "error",
     "traceback": [
      "\u001b[1;31m---------------------------------------------------------------------------\u001b[0m",
      "\u001b[1;31mTypeError\u001b[0m                                 Traceback (most recent call last)",
      "\u001b[1;32m<ipython-input-140-12724d4f9270>\u001b[0m in \u001b[0;36m<module>\u001b[1;34m\u001b[0m\n\u001b[0;32m      8\u001b[0m \u001b[1;33m\u001b[0m\u001b[0m\n\u001b[0;32m      9\u001b[0m \u001b[0mf\u001b[0m\u001b[1;33m,\u001b[0m \u001b[1;33m(\u001b[0m\u001b[1;33m(\u001b[0m\u001b[0mIx_image\u001b[0m\u001b[1;33m,\u001b[0m \u001b[0mIy_image\u001b[0m\u001b[1;33m)\u001b[0m\u001b[1;33m)\u001b[0m \u001b[1;33m=\u001b[0m \u001b[0mplt\u001b[0m\u001b[1;33m.\u001b[0m\u001b[0msubplots\u001b[0m\u001b[1;33m(\u001b[0m\u001b[1;36m1\u001b[0m\u001b[1;33m,\u001b[0m \u001b[1;36m2\u001b[0m\u001b[1;33m,\u001b[0m \u001b[0msharex\u001b[0m\u001b[1;33m=\u001b[0m\u001b[1;34m'col'\u001b[0m\u001b[1;33m,\u001b[0m \u001b[0msharey\u001b[0m\u001b[1;33m=\u001b[0m\u001b[1;34m'row'\u001b[0m\u001b[1;33m,\u001b[0m \u001b[0mfigsize\u001b[0m\u001b[1;33m=\u001b[0m\u001b[1;33m(\u001b[0m\u001b[1;36m10\u001b[0m\u001b[1;33m,\u001b[0m \u001b[1;36m60\u001b[0m\u001b[1;33m)\u001b[0m\u001b[1;33m)\u001b[0m\u001b[1;33m\u001b[0m\u001b[1;33m\u001b[0m\u001b[0m\n\u001b[1;32m---> 10\u001b[1;33m \u001b[0mIx_image\u001b[0m\u001b[1;33m.\u001b[0m\u001b[0mimshow\u001b[0m\u001b[1;33m(\u001b[0m\u001b[0mIx\u001b[0m\u001b[1;33m,\u001b[0m \u001b[0mcmap\u001b[0m\u001b[1;33m=\u001b[0m\u001b[1;34m'gray'\u001b[0m\u001b[1;33m)\u001b[0m\u001b[1;33m,\u001b[0m \u001b[0mIx_image\u001b[0m\u001b[1;33m.\u001b[0m\u001b[0mset_title\u001b[0m\u001b[1;33m(\u001b[0m\u001b[1;34m'Ix_image'\u001b[0m\u001b[1;33m,\u001b[0m \u001b[0mfontsize\u001b[0m \u001b[1;33m=\u001b[0m \u001b[1;36m20\u001b[0m\u001b[1;33m)\u001b[0m\u001b[1;33m\u001b[0m\u001b[1;33m\u001b[0m\u001b[0m\n\u001b[0m\u001b[0;32m     11\u001b[0m \u001b[0mIy_image\u001b[0m\u001b[1;33m.\u001b[0m\u001b[0mimshow\u001b[0m\u001b[1;33m(\u001b[0m\u001b[0mIy\u001b[0m\u001b[1;33m,\u001b[0m \u001b[0mcmap\u001b[0m\u001b[1;33m=\u001b[0m\u001b[1;34m'gray'\u001b[0m\u001b[1;33m)\u001b[0m\u001b[1;33m,\u001b[0m \u001b[0mIy_image\u001b[0m\u001b[1;33m.\u001b[0m\u001b[0mset_title\u001b[0m\u001b[1;33m(\u001b[0m\u001b[1;34m'Iy_image'\u001b[0m\u001b[1;33m,\u001b[0m \u001b[0mfontsize\u001b[0m \u001b[1;33m=\u001b[0m \u001b[1;36m20\u001b[0m\u001b[1;33m)\u001b[0m\u001b[1;33m\u001b[0m\u001b[1;33m\u001b[0m\u001b[0m\n",
      "\u001b[1;32m~\\anaconda3\\lib\\site-packages\\matplotlib\\__init__.py\u001b[0m in \u001b[0;36minner\u001b[1;34m(ax, data, *args, **kwargs)\u001b[0m\n\u001b[0;32m   1436\u001b[0m     \u001b[1;32mdef\u001b[0m \u001b[0minner\u001b[0m\u001b[1;33m(\u001b[0m\u001b[0max\u001b[0m\u001b[1;33m,\u001b[0m \u001b[1;33m*\u001b[0m\u001b[0margs\u001b[0m\u001b[1;33m,\u001b[0m \u001b[0mdata\u001b[0m\u001b[1;33m=\u001b[0m\u001b[1;32mNone\u001b[0m\u001b[1;33m,\u001b[0m \u001b[1;33m**\u001b[0m\u001b[0mkwargs\u001b[0m\u001b[1;33m)\u001b[0m\u001b[1;33m:\u001b[0m\u001b[1;33m\u001b[0m\u001b[1;33m\u001b[0m\u001b[0m\n\u001b[0;32m   1437\u001b[0m         \u001b[1;32mif\u001b[0m \u001b[0mdata\u001b[0m \u001b[1;32mis\u001b[0m \u001b[1;32mNone\u001b[0m\u001b[1;33m:\u001b[0m\u001b[1;33m\u001b[0m\u001b[1;33m\u001b[0m\u001b[0m\n\u001b[1;32m-> 1438\u001b[1;33m             \u001b[1;32mreturn\u001b[0m \u001b[0mfunc\u001b[0m\u001b[1;33m(\u001b[0m\u001b[0max\u001b[0m\u001b[1;33m,\u001b[0m \u001b[1;33m*\u001b[0m\u001b[0mmap\u001b[0m\u001b[1;33m(\u001b[0m\u001b[0msanitize_sequence\u001b[0m\u001b[1;33m,\u001b[0m \u001b[0margs\u001b[0m\u001b[1;33m)\u001b[0m\u001b[1;33m,\u001b[0m \u001b[1;33m**\u001b[0m\u001b[0mkwargs\u001b[0m\u001b[1;33m)\u001b[0m\u001b[1;33m\u001b[0m\u001b[1;33m\u001b[0m\u001b[0m\n\u001b[0m\u001b[0;32m   1439\u001b[0m \u001b[1;33m\u001b[0m\u001b[0m\n\u001b[0;32m   1440\u001b[0m         \u001b[0mbound\u001b[0m \u001b[1;33m=\u001b[0m \u001b[0mnew_sig\u001b[0m\u001b[1;33m.\u001b[0m\u001b[0mbind\u001b[0m\u001b[1;33m(\u001b[0m\u001b[0max\u001b[0m\u001b[1;33m,\u001b[0m \u001b[1;33m*\u001b[0m\u001b[0margs\u001b[0m\u001b[1;33m,\u001b[0m \u001b[1;33m**\u001b[0m\u001b[0mkwargs\u001b[0m\u001b[1;33m)\u001b[0m\u001b[1;33m\u001b[0m\u001b[1;33m\u001b[0m\u001b[0m\n",
      "\u001b[1;32m~\\anaconda3\\lib\\site-packages\\matplotlib\\axes\\_axes.py\u001b[0m in \u001b[0;36mimshow\u001b[1;34m(self, X, cmap, norm, aspect, interpolation, alpha, vmin, vmax, origin, extent, filternorm, filterrad, resample, url, **kwargs)\u001b[0m\n\u001b[0;32m   5521\u001b[0m                               resample=resample, **kwargs)\n\u001b[0;32m   5522\u001b[0m \u001b[1;33m\u001b[0m\u001b[0m\n\u001b[1;32m-> 5523\u001b[1;33m         \u001b[0mim\u001b[0m\u001b[1;33m.\u001b[0m\u001b[0mset_data\u001b[0m\u001b[1;33m(\u001b[0m\u001b[0mX\u001b[0m\u001b[1;33m)\u001b[0m\u001b[1;33m\u001b[0m\u001b[1;33m\u001b[0m\u001b[0m\n\u001b[0m\u001b[0;32m   5524\u001b[0m         \u001b[0mim\u001b[0m\u001b[1;33m.\u001b[0m\u001b[0mset_alpha\u001b[0m\u001b[1;33m(\u001b[0m\u001b[0malpha\u001b[0m\u001b[1;33m)\u001b[0m\u001b[1;33m\u001b[0m\u001b[1;33m\u001b[0m\u001b[0m\n\u001b[0;32m   5525\u001b[0m         \u001b[1;32mif\u001b[0m \u001b[0mim\u001b[0m\u001b[1;33m.\u001b[0m\u001b[0mget_clip_path\u001b[0m\u001b[1;33m(\u001b[0m\u001b[1;33m)\u001b[0m \u001b[1;32mis\u001b[0m \u001b[1;32mNone\u001b[0m\u001b[1;33m:\u001b[0m\u001b[1;33m\u001b[0m\u001b[1;33m\u001b[0m\u001b[0m\n",
      "\u001b[1;32m~\\anaconda3\\lib\\site-packages\\matplotlib\\image.py\u001b[0m in \u001b[0;36mset_data\u001b[1;34m(self, A)\u001b[0m\n\u001b[0;32m    707\u001b[0m         if not (self._A.ndim == 2\n\u001b[0;32m    708\u001b[0m                 or self._A.ndim == 3 and self._A.shape[-1] in [3, 4]):\n\u001b[1;32m--> 709\u001b[1;33m             raise TypeError(\"Invalid shape {} for image data\"\n\u001b[0m\u001b[0;32m    710\u001b[0m                             .format(self._A.shape))\n\u001b[0;32m    711\u001b[0m \u001b[1;33m\u001b[0m\u001b[0m\n",
      "\u001b[1;31mTypeError\u001b[0m: Invalid shape (9,) for image data"
     ]
    },
    {
     "data": {
      "image/png": "[encoded data removed]",
      "text/plain": [
       "<Figure size 720x4320 with 2 Axes>"
      ]
     },
     "metadata": {
      "needs_background": "light"
     },
     "output_type": "display_data"
    }
   ],
   "source": [
    "# f, ((f_x1, f_x2)) = plt.subplots(1, 2, sharex='col', sharey='row', figsize=(10, 60))\n",
    "# f_x1.imshow(img1_convolved_x, cmap='gray'), f_x1.set_title('img1_convolved_x', fontsize = 20)\n",
    "# f_x2.imshow(img2_convolved_x, cmap='gray'), f_x2.set_title('img2_convolved_x', fontsize = 20)\n",
    "\n",
    "# f, ((f_y1, f_y2)) = plt.subplots(1, 2, sharex='col', sharey='row', figsize=(10, 60))\n",
    "# f_y1.imshow(img1_convolved_y, cmap='gray'), f_y1.set_title('img1_convolved_y', fontsize = 20)\n",
    "# f_y2.imshow(img2_convolved_y, cmap='gray'), f_y2.set_title('img2_convolved_y', fontsize = 20)\n",
    "\n",
    "f, ((Ix_image, Iy_image)) = plt.subplots(1, 2, sharex='col', sharey='row', figsize=(10, 60))\n",
    "Ix_image.imshow(Ix, cmap='gray'), Ix_image.set_title('Ix_image', fontsize = 20)\n",
    "Iy_image.imshow(Iy, cmap='gray'), Iy_image.set_title('Iy_image', fontsize = 20)"
   ]
  },
  {
   "cell_type": "code",
   "execution_count": 119,
   "metadata": {
    "collapsed": true,
    "jupyter": {
     "outputs_hidden": true,
     "source_hidden": true
    }
   },
   "outputs": [
    {
     "data": {
      "text/plain": [
       "(<matplotlib.image.AxesImage at 0x19964cca7c0>, Text(0.5, 1.0, 'It_image'))"
      ]
     },
     "execution_count": 119,
     "metadata": {},
     "output_type": "execute_result"
    },
    {
     "data": {
      "image/png": "[encoded data removed]",
      "text/plain": [
       "<Figure size 720x4320 with 2 Axes>"
      ]
     },
     "metadata": {
      "needs_background": "light"
     },
     "output_type": "display_data"
    }
   ],
   "source": [
    "f, (It_image, zzz) = plt.subplots(1, 2, sharex='col', sharey='row', figsize=(10, 60))\n",
    "It_image.imshow(It, cmap='gray'), It_image.set_title('It_image', fontsize = 20)"
   ]
  },
  {
   "cell_type": "code",
   "execution_count": 169,
   "metadata": {},
   "outputs": [],
   "source": [
    "def basic_LK_OF(name_file, nf1, nf2, sigma_S, sigma_R):\n",
    "    window_size = 43\n",
    "    mode = 'same'\n",
    "    boundary = 'symm'\n",
    "    mask_size = sigma_S * 4\n",
    "\n",
    "    frames_list = get_all_frames_as_list(filename)\n",
    "\n",
    "    im1 = frames_list[nf1]/255\n",
    "    im2 = frames_list[nf2]/255\n",
    "\n",
    "    kernel_x = Deriv_Gauss(sigma_S, mask_size, 'x')\n",
    "    kernel_y = Deriv_Gauss(sigma_S, mask_size, 'y')\n",
    "    kernel_t = np.array([[1., 1.], [1., 1.]])\n",
    "\n",
    "    fx = convolve2d(im1, kernel_x, boundary = boundary, mode = mode)\n",
    "    fy = convolve2d(im1, kernel_y, boundary = boundary, mode = mode)\n",
    "    ft = convolve2d(im2, kernel_t, boundary = boundary, mode = mode) + \\\n",
    "         convolve2d(im1, -kernel_t, boundary = boundary, mode = mode)\n",
    "\n",
    "    U,V = get_U_V(fx, fy, ft, window_size)\n",
    "    \n",
    "    return [U,V,im1,im2]"
   ]
  },
  {
   "cell_type": "code",
   "execution_count": 184,
   "metadata": {},
   "outputs": [],
   "source": [
    "# from scipy.signal import convolve2d\n",
    "\n",
    "name_file = 'OneLeaveShopReenter2cor.mpg' # 559 frames\n",
    "# name_file = 'slide.avi' # 560 frames\n",
    "nf1 = 0\n",
    "nf2 = 1\n",
    "sigma_S = 1\n",
    "sigma_R = 4\n",
    "\n",
    "B1_results = basic_LK_OF(name_file, nf1, nf2, sigma_S, sigma_R)"
   ]
  },
  {
   "cell_type": "code",
   "execution_count": 183,
   "metadata": {},
   "outputs": [
    {
     "data": {
      "text/plain": [
       "[array([[-5, -4, -3, -2, -1,  0,  1,  2,  3,  4,  5],\n",
       "        [-5, -4, -3, -2, -1,  0,  1,  2,  3,  4,  5],\n",
       "        [-5, -4, -3, -2, -1,  0,  1,  2,  3,  4,  5],\n",
       "        [-5, -4, -3, -2, -1,  0,  1,  2,  3,  4,  5],\n",
       "        [-5, -4, -3, -2, -1,  0,  1,  2,  3,  4,  5],\n",
       "        [-5, -4, -3, -2, -1,  0,  1,  2,  3,  4,  5],\n",
       "        [-5, -4, -3, -2, -1,  0,  1,  2,  3,  4,  5],\n",
       "        [-5, -4, -3, -2, -1,  0,  1,  2,  3,  4,  5],\n",
       "        [-5, -4, -3, -2, -1,  0,  1,  2,  3,  4,  5],\n",
       "        [-5, -4, -3, -2, -1,  0,  1,  2,  3,  4,  5],\n",
       "        [-5, -4, -3, -2, -1,  0,  1,  2,  3,  4,  5]]),\n",
       " array([[-5, -5, -5, -5, -5, -5, -5, -5, -5, -5, -5],\n",
       "        [-4, -4, -4, -4, -4, -4, -4, -4, -4, -4, -4],\n",
       "        [-3, -3, -3, -3, -3, -3, -3, -3, -3, -3, -3],\n",
       "        [-2, -2, -2, -2, -2, -2, -2, -2, -2, -2, -2],\n",
       "        [-1, -1, -1, -1, -1, -1, -1, -1, -1, -1, -1],\n",
       "        [ 0,  0,  0,  0,  0,  0,  0,  0,  0,  0,  0],\n",
       "        [ 1,  1,  1,  1,  1,  1,  1,  1,  1,  1,  1],\n",
       "        [ 2,  2,  2,  2,  2,  2,  2,  2,  2,  2,  2],\n",
       "        [ 3,  3,  3,  3,  3,  3,  3,  3,  3,  3,  3],\n",
       "        [ 4,  4,  4,  4,  4,  4,  4,  4,  4,  4,  4],\n",
       "        [ 5,  5,  5,  5,  5,  5,  5,  5,  5,  5,  5]])]"
      ]
     },
     "execution_count": 183,
     "metadata": {},
     "output_type": "execute_result"
    }
   ],
   "source": [
    "q = np.arange(-5,6,1)\n",
    "w = np.arange(-5,6,1)\n",
    "np.meshgrid(q,w)\n"
   ]
  },
  {
   "cell_type": "markdown",
   "metadata": {
    "deletable": false
   },
   "source": [
    "**B2. Present OF results**\n",
    "\n",
    "*Input:* im1, U, V (the output of Basic_LK_OF without im2).\n",
    "\n",
    "*Output:* a quiver plot overlaid the input  frame\n",
    "\n",
    "**Note:**\n",
    "1. You can look at https://pythonforundergradengineers.com/quiver-plot-with-matplotlib-and-jupyter-notebooks.html\n",
    "2. You may want for visualaization to uniformally resize the values of U and V - if they are too large or too small/\n",
    "2. You may not want to draw the OF  each pixel - to avoid OF overlapping of neighboring pixels."
   ]
  },
  {
   "cell_type": "code",
   "execution_count": 161,
   "metadata": {
    "deletable": false
   },
   "outputs": [],
   "source": [
    "def OF_plot_results(U,V,im1):\n",
    "    return"
   ]
  },
  {
   "cell_type": "code",
   "execution_count": 171,
   "metadata": {},
   "outputs": [],
   "source": [
    "U = B1_results[0]\n",
    "V = B1_results[1]\n",
    "im1 = B1_results[2]\n",
    "\n",
    "B2_results = OF_plot_results(U,V,im1)"
   ]
  },
  {
   "cell_type": "markdown",
   "metadata": {},
   "source": [
    "**B3. Evaluate OF results**\n",
    "\n",
    "*Input:* im1, im2,  U, V (the output of Basic_LK_OF).\n",
    "\n",
    "*Output:* w_im1, w_diff, err\\\n",
    "w_im1: the results of wrapping im1 using (U,V) toward im2 (matrix).\\\n",
    "w_diff:  |wraped_im1 -  im2| (matrix).\\\n",
    "err: the sum of square differences between w_im1 and im2 (scalar).\n",
    "\n",
    "**Note:**\\\n",
    " You can use any wrapping function you like from openCV or other code.\n"
   ]
  },
  {
   "cell_type": "code",
   "execution_count": 164,
   "metadata": {},
   "outputs": [],
   "source": [
    "def eval_OF(im1,im2,U,V):\n",
    "    return [w_im1, w_diff, err]"
   ]
  },
  {
   "cell_type": "markdown",
   "metadata": {},
   "source": [
    "**B4. Affine_LK_OF**\n",
    "\n",
    "Use the variant of Lucas-Kanade with affine motion instead of translation.\n",
    "See slides - class 7 slides 73-75.\n",
    "\n",
    "The input and output is the same as in **B1**.\n",
    "\n"
   ]
  },
  {
   "cell_type": "code",
   "execution_count": null,
   "metadata": {},
   "outputs": [],
   "source": [
    "def [U,V,im1,im2] = affine_LK_OF(video, nf1, nf2, sigma_S, sigma_R):\n",
    " \n",
    "  # your code"
   ]
  },
  {
   "cell_type": "markdown",
   "metadata": {},
   "source": [
    "**B5. Apply and Discuss:**\n",
    "\n",
    "Run the basic_LK_OF, and the affine_LK_OF on one or two videos, one with a static camera and the other with a moving camera.\n",
    "Play with the frames chosen from each video, the algorithm parameters, and  the distance between nf1 and nf2.\n",
    "\n",
    "**Answer:**\n",
    "1. The disparity you compute in HW2 were integers while the OF is not necessarily integer. Expalin why. \n",
    "2. Explain theoretically for which regions the basic_LK_OF is expected to give good results and for which it does not.\n",
    "2. Demonstrate your answer to (2) by displaying the results of OF overlaid im1  (Quiver overlayed im1), and mark good and bad results.\n",
    "3. Explain theoretically when the basic_LK_OF is expected to fail while affine_LK_OF works well.\n",
    "4. Find an example for (4)  (at least a region in the scene) and display it.\n",
    "5. When two OF vectors have the same magnitude, are they necessarily corresponds to 3D points that moves at the same speed?\n"
   ]
  },
  {
   "cell_type": "markdown",
   "metadata": {},
   "source": [
    "## Section C: Segementation  -- Not for submission\n",
    "\n",
    "Part C will not be graded, hence,  **you do not have to submit it**. In case you would like to get feedback on it anyway - you are welcome to submit it.\n",
    "\n",
    "**C1. Simple OF segemntation**\n",
    "\n",
    "Use a simple segmentation (e.g., threshold) for the OF results based on the OF magnitude.\n",
    "\n",
    "*Input:* U, V, any other parameters you find necessary\n",
    "U, V - the OF vectors (e.g., computed by  B1 or B4).\n",
    "\n",
    "*Output:* segments\n",
    "im_segments is an image in which each segment is colored by a different color.\n"
   ]
  },
  {
   "cell_type": "code",
   "execution_count": null,
   "metadata": {},
   "outputs": [],
   "source": [
    "def im_segments = simple_segment_OF(U,V, \"any other paramers\")\n",
    "   \n",
    "    # Your code"
   ]
  },
  {
   "cell_type": "markdown",
   "metadata": {},
   "source": [
    "**C2. K-means OF segemntation**\n",
    "\n",
    "Use k-mean segmentation for the OF results based on the OF magnitude and directions.\n",
    "\n",
    "*Input:* U, V, any other parameters you find necessary\\\n",
    "U, V - the OF vectors (e.g., computed by  B1 or B4).\n",
    "\n",
    "*Output:* im_segments\\\n",
    "im_segments is an image in which each segment is colored by a different color."
   ]
  },
  {
   "cell_type": "code",
   "execution_count": null,
   "metadata": {},
   "outputs": [],
   "source": [
    "def im_segments = simple_segment_OF(U,V, \"any other paramers\")\n",
    "   \n",
    "    # Your code"
   ]
  },
  {
   "cell_type": "markdown",
   "metadata": {},
   "source": [
    "**C3. Apply  and answer**\n",
    "\n",
    "1. Apply the functions in C1 and C2 on a video of your choice with a moving camera.\n",
    "2. Discuss which method (C1 or C2) works better. Give an example.\n"
   ]
  },
  {
   "cell_type": "markdown",
   "metadata": {},
   "source": [
    "**C4. OF used for change detection**\n",
    "\n",
    "Assume that the video is taken by a static camera and use the results of C1 or C2 on the output in order to detect moving regions in the scene.\n",
    "\n",
    "*input:* name_file, nf1, \"any parameters you need\"\\\n",
    "name_file: a name of a video file.\\\n",
    "nf1: the frame on which the OF is computed (nf1 and nf1+1).\n",
    "\n",
    "*output*: v_change\\\n",
    "v_foreground: as in A1\n",
    "\n"
   ]
  },
  {
   "cell_type": "code",
   "execution_count": null,
   "metadata": {},
   "outputs": [],
   "source": [
    "def [v_foreground] = OF_change_detection(name_file, nf1, \"any parameters you need\"):\n",
    "    \n",
    "    # your code"
   ]
  },
  {
   "cell_type": "markdown",
   "metadata": {},
   "source": [
    "**C5. Change detection comparisons**\n",
    "\n",
    "Choose a video taken from a static camera (one of the videos you used for change detection). \n",
    "\n",
    "1. Apply the functions A1 or A2 and C4.\n",
    "4. Discuss which method (A1 or C4) works better. Give an example.\n",
    "5. Count the number of moving regions for A1, A3, and C4. "
   ]
  },
  {
   "cell_type": "code",
   "execution_count": null,
   "metadata": {},
   "outputs": [],
   "source": []
  },
  {
   "cell_type": "code",
   "execution_count": null,
   "metadata": {},
   "outputs": [],
   "source": []
  },
  {
   "cell_type": "code",
   "execution_count": null,
   "metadata": {},
   "outputs": [],
   "source": []
  },
  {
   "cell_type": "code",
   "execution_count": null,
   "metadata": {},
   "outputs": [],
   "source": []
  },
  {
   "cell_type": "code",
   "execution_count": null,
   "metadata": {},
   "outputs": [],
   "source": []
  },
  {
   "cell_type": "code",
   "execution_count": null,
   "metadata": {},
   "outputs": [],
   "source": [
    "# For open questions:\n",
    "# https://docs.google.com/document/d/1nN1hPVZ43l1Xf-8EaNBw7gUjW9M7d_YsBdvx6SyNIfs/edit\n",
    "\n",
    "# The Data can be found https://www.dropbox.com/s/xwenzu5dksb3nat/DATA.zip?dl=0"
   ]
  }
 ],
 "metadata": {
  "kernelspec": {
   "display_name": "Python 3",
   "language": "python",
   "name": "python3"
  },
  "language_info": {
   "codemirror_mode": {
    "name": "ipython",
    "version": 3
   },
   "file_extension": ".py",
   "mimetype": "text/x-python",
   "name": "python",
   "nbconvert_exporter": "python",
   "pygments_lexer": "ipython3",
   "version": "3.8.5"
  }
 },
 "nbformat": 4,
 "nbformat_minor": 4
}
